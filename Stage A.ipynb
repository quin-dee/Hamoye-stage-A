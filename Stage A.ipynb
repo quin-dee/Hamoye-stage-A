{
 "cells": [
  {
   "cell_type": "code",
   "execution_count": 1,
   "id": "238d1f7f",
   "metadata": {},
   "outputs": [],
   "source": [
    "import numpy as np\n",
    "import pandas as pd\n",
    "import seaborn as sns\n",
    "import matplotlib.pyplot as plt"
   ]
  },
  {
   "cell_type": "code",
   "execution_count": 2,
   "id": "dc248936",
   "metadata": {},
   "outputs": [
    {
     "data": {
      "text/html": [
       "<div>\n",
       "<style scoped>\n",
       "    .dataframe tbody tr th:only-of-type {\n",
       "        vertical-align: middle;\n",
       "    }\n",
       "\n",
       "    .dataframe tbody tr th {\n",
       "        vertical-align: top;\n",
       "    }\n",
       "\n",
       "    .dataframe thead th {\n",
       "        text-align: right;\n",
       "    }\n",
       "</style>\n",
       "<table border=\"1\" class=\"dataframe\">\n",
       "  <thead>\n",
       "    <tr style=\"text-align: right;\">\n",
       "      <th></th>\n",
       "      <th>Area Code</th>\n",
       "      <th>Area</th>\n",
       "      <th>Item Code</th>\n",
       "      <th>Item</th>\n",
       "      <th>Element Code</th>\n",
       "      <th>Element</th>\n",
       "      <th>Unit</th>\n",
       "      <th>Y2014</th>\n",
       "      <th>Y2015</th>\n",
       "      <th>Y2016</th>\n",
       "      <th>Y2017</th>\n",
       "      <th>Y2018</th>\n",
       "    </tr>\n",
       "  </thead>\n",
       "  <tbody>\n",
       "    <tr>\n",
       "      <th>0</th>\n",
       "      <td>4</td>\n",
       "      <td>Algeria</td>\n",
       "      <td>2501</td>\n",
       "      <td>Population</td>\n",
       "      <td>511</td>\n",
       "      <td>Total Population - Both sexes</td>\n",
       "      <td>1000 persons</td>\n",
       "      <td>38924.00</td>\n",
       "      <td>39728.00</td>\n",
       "      <td>40551.00</td>\n",
       "      <td>41389.00</td>\n",
       "      <td>42228.00</td>\n",
       "    </tr>\n",
       "    <tr>\n",
       "      <th>1</th>\n",
       "      <td>4</td>\n",
       "      <td>Algeria</td>\n",
       "      <td>2501</td>\n",
       "      <td>Population</td>\n",
       "      <td>5301</td>\n",
       "      <td>Domestic supply quantity</td>\n",
       "      <td>1000 tonnes</td>\n",
       "      <td>0.00</td>\n",
       "      <td>0.00</td>\n",
       "      <td>0.00</td>\n",
       "      <td>0.00</td>\n",
       "      <td>0.00</td>\n",
       "    </tr>\n",
       "    <tr>\n",
       "      <th>2</th>\n",
       "      <td>4</td>\n",
       "      <td>Algeria</td>\n",
       "      <td>2901</td>\n",
       "      <td>Grand Total</td>\n",
       "      <td>664</td>\n",
       "      <td>Food supply (kcal/capita/day)</td>\n",
       "      <td>kcal/capita/day</td>\n",
       "      <td>3377.00</td>\n",
       "      <td>3379.00</td>\n",
       "      <td>3372.00</td>\n",
       "      <td>3341.00</td>\n",
       "      <td>3322.00</td>\n",
       "    </tr>\n",
       "    <tr>\n",
       "      <th>3</th>\n",
       "      <td>4</td>\n",
       "      <td>Algeria</td>\n",
       "      <td>2901</td>\n",
       "      <td>Grand Total</td>\n",
       "      <td>674</td>\n",
       "      <td>Protein supply quantity (g/capita/day)</td>\n",
       "      <td>g/capita/day</td>\n",
       "      <td>94.90</td>\n",
       "      <td>94.35</td>\n",
       "      <td>94.72</td>\n",
       "      <td>92.82</td>\n",
       "      <td>91.83</td>\n",
       "    </tr>\n",
       "    <tr>\n",
       "      <th>4</th>\n",
       "      <td>4</td>\n",
       "      <td>Algeria</td>\n",
       "      <td>2901</td>\n",
       "      <td>Grand Total</td>\n",
       "      <td>684</td>\n",
       "      <td>Fat supply quantity (g/capita/day)</td>\n",
       "      <td>g/capita/day</td>\n",
       "      <td>80.06</td>\n",
       "      <td>79.36</td>\n",
       "      <td>77.40</td>\n",
       "      <td>80.19</td>\n",
       "      <td>77.28</td>\n",
       "    </tr>\n",
       "  </tbody>\n",
       "</table>\n",
       "</div>"
      ],
      "text/plain": [
       "   Area Code     Area  Item Code         Item  Element Code  \\\n",
       "0          4  Algeria       2501   Population           511   \n",
       "1          4  Algeria       2501   Population          5301   \n",
       "2          4  Algeria       2901  Grand Total           664   \n",
       "3          4  Algeria       2901  Grand Total           674   \n",
       "4          4  Algeria       2901  Grand Total           684   \n",
       "\n",
       "                                  Element             Unit     Y2014  \\\n",
       "0           Total Population - Both sexes     1000 persons  38924.00   \n",
       "1                Domestic supply quantity      1000 tonnes      0.00   \n",
       "2           Food supply (kcal/capita/day)  kcal/capita/day   3377.00   \n",
       "3  Protein supply quantity (g/capita/day)     g/capita/day     94.90   \n",
       "4      Fat supply quantity (g/capita/day)     g/capita/day     80.06   \n",
       "\n",
       "      Y2015     Y2016     Y2017     Y2018  \n",
       "0  39728.00  40551.00  41389.00  42228.00  \n",
       "1      0.00      0.00      0.00      0.00  \n",
       "2   3379.00   3372.00   3341.00   3322.00  \n",
       "3     94.35     94.72     92.82     91.83  \n",
       "4     79.36     77.40     80.19     77.28  "
      ]
     },
     "execution_count": 2,
     "metadata": {},
     "output_type": "execute_result"
    }
   ],
   "source": [
    "df = pd.read_csv('FoodBalanceSheets_E_Africa_NOFLAG.csv', encoding='latin-1')\n",
    "df.head()"
   ]
  },
  {
   "cell_type": "markdown",
   "id": "5605f48b",
   "metadata": {},
   "source": [
    "QUESTION 2"
   ]
  },
  {
   "cell_type": "code",
   "execution_count": 3,
   "id": "ea7eab24",
   "metadata": {},
   "outputs": [
    {
     "data": {
      "text/plain": [
       "'e'"
      ]
     },
     "execution_count": 3,
     "metadata": {},
     "output_type": "execute_result"
    }
   ],
   "source": [
    "S = [['him', 'sell'], [90, 28, 43]]\n",
    "\n",
    "S[0][1][1]"
   ]
  },
  {
   "cell_type": "code",
   "execution_count": 2,
   "id": "994f29cd",
   "metadata": {},
   "outputs": [
    {
     "name": "stdout",
     "output_type": "stream",
     "text": [
      "   Age Nationality  Overall\n",
      "0   35    Portugal       94\n",
      "1   33   Argentina       93\n",
      "2   30      Brazil       92\n"
     ]
    }
   ],
   "source": []
  },
  {
   "cell_type": "markdown",
   "id": "5969e17c",
   "metadata": {},
   "source": [
    "QUESTION 5"
   ]
  },
  {
   "cell_type": "code",
   "execution_count": 5,
   "id": "f24b4ad7",
   "metadata": {},
   "outputs": [
    {
     "name": "stdout",
     "output_type": "stream",
     "text": [
      "2015: 4251.8099999999995\n",
      "2018: 4039.3199999999997\n"
     ]
    }
   ],
   "source": [
    "wine_df = df[df['Item'] == 'Wine']\n",
    "\n",
    "wine_2015 = wine_df['Y2015'].sum()\n",
    "wine_2018 = wine_df['Y2018'].sum()\n",
    "\n",
    "print(\"2015:\", wine_2015)\n",
    "print(\"2018:\", wine_2018)\n"
   ]
  },
  {
   "cell_type": "markdown",
   "id": "94c9a0d6",
   "metadata": {},
   "source": [
    "QUESTION 6"
   ]
  },
  {
   "cell_type": "code",
   "execution_count": 6,
   "id": "9de1f807",
   "metadata": {},
   "outputs": [
    {
     "data": {
      "text/plain": [
       "49"
      ]
     },
     "execution_count": 6,
     "metadata": {},
     "output_type": "execute_result"
    }
   ],
   "source": [
    "unique = df['Area'].nunique()\n",
    "unique"
   ]
  },
  {
   "cell_type": "markdown",
   "id": "f7967ad1",
   "metadata": {},
   "source": [
    "QUESTION 7"
   ]
  },
  {
   "cell_type": "code",
   "execution_count": 7,
   "id": "bfd1ea70",
   "metadata": {},
   "outputs": [
    {
     "name": "stdout",
     "output_type": "stream",
     "text": [
      "x: 8\n"
     ]
    }
   ],
   "source": [
    "y = [(2, 4), (7, 8), (1, 5, 9)]\n",
    "\n",
    "x = y[1][1]\n",
    "\n",
    "print(\"x:\", x)"
   ]
  },
  {
   "cell_type": "markdown",
   "id": "2c0808af",
   "metadata": {},
   "source": [
    "QUESTION 8"
   ]
  },
  {
   "cell_type": "code",
   "execution_count": 8,
   "id": "8334e19b",
   "metadata": {},
   "outputs": [
    {
     "data": {
      "text/plain": [
       "292836.0"
      ]
     },
     "execution_count": 8,
     "metadata": {},
     "output_type": "execute_result"
    }
   ],
   "source": [
    "df_processing = df[df['Element'] == 'Processing']\n",
    "sum_2017 = df_processing['Y2017'].sum()\n",
    "sum_2017"
   ]
  },
  {
   "cell_type": "markdown",
   "id": "f0572bb7",
   "metadata": {},
   "source": [
    "QUESTION 9"
   ]
  },
  {
   "cell_type": "code",
   "execution_count": 9,
   "id": "a7d29bef",
   "metadata": {},
   "outputs": [
    {
     "data": {
      "text/html": [
       "<div>\n",
       "<style scoped>\n",
       "    .dataframe tbody tr th:only-of-type {\n",
       "        vertical-align: middle;\n",
       "    }\n",
       "\n",
       "    .dataframe tbody tr th {\n",
       "        vertical-align: top;\n",
       "    }\n",
       "\n",
       "    .dataframe thead th {\n",
       "        text-align: right;\n",
       "    }\n",
       "</style>\n",
       "<table border=\"1\" class=\"dataframe\">\n",
       "  <thead>\n",
       "    <tr style=\"text-align: right;\">\n",
       "      <th></th>\n",
       "      <th>Age</th>\n",
       "      <th>Nationality</th>\n",
       "      <th>Overall</th>\n",
       "    </tr>\n",
       "  </thead>\n",
       "  <tbody>\n",
       "    <tr>\n",
       "      <th>1</th>\n",
       "      <td>35</td>\n",
       "      <td>Portugal</td>\n",
       "      <td>94</td>\n",
       "    </tr>\n",
       "    <tr>\n",
       "      <th>2</th>\n",
       "      <td>33</td>\n",
       "      <td>Argentina</td>\n",
       "      <td>93</td>\n",
       "    </tr>\n",
       "    <tr>\n",
       "      <th>3</th>\n",
       "      <td>30</td>\n",
       "      <td>Brazil</td>\n",
       "      <td>92</td>\n",
       "    </tr>\n",
       "  </tbody>\n",
       "</table>\n",
       "</div>"
      ],
      "text/plain": [
       "   Age Nationality  Overall\n",
       "1   35    Portugal       94\n",
       "2   33   Argentina       93\n",
       "3   30      Brazil       92"
      ]
     },
     "execution_count": 9,
     "metadata": {},
     "output_type": "execute_result"
    }
   ],
   "source": [
    "lst = [[35, 'Portugal', 94], [33, 'Argentina', 93], [30 , 'Brazil', 92]]\n",
    "col = ['Age', 'Nationality', 'Overall']\n",
    "\n",
    "df1 = pd.DataFrame(lst, columns=col,index=[1,2,3])\n",
    "df1"
   ]
  },
  {
   "cell_type": "markdown",
   "id": "bd851c06",
   "metadata": {},
   "source": [
    "QUESTION 10"
   ]
  },
  {
   "cell_type": "code",
   "execution_count": 10,
   "id": "f986bf04",
   "metadata": {},
   "outputs": [
    {
     "data": {
      "text/plain": [
       "21120.649999999998"
      ]
     },
     "execution_count": 10,
     "metadata": {},
     "output_type": "execute_result"
    }
   ],
   "source": [
    "df_mad = df[(df['Area'] == 'Madagascar') & (df['Element'] == 'Food')]\n",
    "dff_mad = df_mad['Y2015'].sum()\n",
    "dff_mad"
   ]
  },
  {
   "cell_type": "markdown",
   "id": "d5e8819a",
   "metadata": {},
   "source": [
    "QUESTION 12"
   ]
  },
  {
   "cell_type": "code",
   "execution_count": 12,
   "id": "ef59ab32",
   "metadata": {},
   "outputs": [
    {
     "data": {
      "text/plain": [
       "'Nigeria'"
      ]
     },
     "execution_count": 12,
     "metadata": {},
     "output_type": "execute_result"
    }
   ],
   "source": [
    "df2 = df[['Y2017', 'Area']]\n",
    "dff2 = df2.groupby('Area')['Y2017'].sum()\n",
    "df3 = dff2.idxmax()\n",
    "df3"
   ]
  },
  {
   "cell_type": "markdown",
   "id": "0e5bf772",
   "metadata": {},
   "source": [
    "QUESTION 13"
   ]
  },
  {
   "cell_type": "code",
   "execution_count": 17,
   "id": "6aa975ad",
   "metadata": {},
   "outputs": [
    {
     "data": {
      "text/plain": [
       "'Y2014'"
      ]
     },
     "execution_count": 17,
     "metadata": {},
     "output_type": "execute_result"
    }
   ],
   "source": [
    "df4 = df[df['Element'] == 'Stock Variation']\n",
    "df4_year = ['Y2014', 'Y2015', 'Y2016', 'Y2017', 'Y2018']\n",
    "df4_sum = df4[df4_year].sum()\n",
    "df4_sum_max = df4_sum.idxmax()\n",
    "df4_sum_max"
   ]
  },
  {
   "cell_type": "markdown",
   "id": "b2ea517d",
   "metadata": {},
   "source": [
    "QUESTION 15"
   ]
  },
  {
   "cell_type": "code",
   "execution_count": 18,
   "id": "63ef5265",
   "metadata": {},
   "outputs": [
    {
     "name": "stdout",
     "output_type": "stream",
     "text": [
      "missing values in 2014: 1589\n",
      "Percentage of missing values in 2014: 2.607%\n"
     ]
    }
   ],
   "source": [
    "missing_values_2014 = df['Y2014'].isnull().sum()\n",
    "total_values_2014 = len(df['Y2014'])\n",
    "percentage_missing_2014 = (missing_values_2014 / total_values_2014) * 100\n",
    "print(\"missing values in 2014:\", missing_values_2014)\n",
    "print(\"Percentage of missing values in 2014:\", \"{:.3f}%\".format(percentage_missing_2014))"
   ]
  },
  {
   "cell_type": "markdown",
   "id": "534c6e7c",
   "metadata": {},
   "source": [
    "QUESTION 16"
   ]
  },
  {
   "cell_type": "code",
   "execution_count": 19,
   "id": "b75a430b",
   "metadata": {},
   "outputs": [
    {
     "ename": "TypeError",
     "evalue": "'tuple' object does not support item assignment",
     "output_type": "error",
     "traceback": [
      "\u001b[1;31m---------------------------------------------------------------------------\u001b[0m",
      "\u001b[1;31mTypeError\u001b[0m                                 Traceback (most recent call last)",
      "Input \u001b[1;32mIn [19]\u001b[0m, in \u001b[0;36m<cell line: 2>\u001b[1;34m()\u001b[0m\n\u001b[0;32m      1\u001b[0m my_tuppy \u001b[38;5;241m=\u001b[39m (\u001b[38;5;241m1\u001b[39m,\u001b[38;5;241m2\u001b[39m,\u001b[38;5;241m5\u001b[39m,\u001b[38;5;241m8\u001b[39m)\n\u001b[1;32m----> 2\u001b[0m my_tuppy[\u001b[38;5;241m2\u001b[39m] \u001b[38;5;241m=\u001b[39m \u001b[38;5;241m6\u001b[39m\n",
      "\u001b[1;31mTypeError\u001b[0m: 'tuple' object does not support item assignment"
     ]
    }
   ],
   "source": [
    "my_tuppy = (1,2,5,8)\n",
    "my_tuppy[2] = 6"
   ]
  },
  {
   "cell_type": "markdown",
   "id": "aaab3d1b",
   "metadata": {},
   "source": [
    "QUESTION 17"
   ]
  },
  {
   "cell_type": "code",
   "execution_count": 21,
   "id": "acdffd6b",
   "metadata": {},
   "outputs": [
    {
     "data": {
      "text/plain": [
       "'Guinea-Bissau'"
      ]
     },
     "execution_count": 21,
     "metadata": {},
     "output_type": "execute_result"
    }
   ],
   "source": [
    "selected_columns = df[['Y2017', 'Area']]\n",
    "sum_2017_by_area = selected_columns.groupby('Area')['Y2017'].sum()\n",
    "seventh_lowest_sum = sum_2017_by_area.nsmallest(7).iloc[-1]\n",
    "area_seventh_lowest_sum = sum_2017_by_area[sum_2017_by_area == seventh_lowest_sum].index[0]\n",
    "area_seventh_lowest_sum"
   ]
  },
  {
   "cell_type": "markdown",
   "id": "b1a1a8cc",
   "metadata": {},
   "source": [
    "QUESTION 18"
   ]
  },
  {
   "cell_type": "code",
   "execution_count": 22,
   "id": "6188f65a",
   "metadata": {},
   "outputs": [
    {
     "data": {
      "text/plain": [
       "'Y2016'"
      ]
     },
     "execution_count": 22,
     "metadata": {},
     "output_type": "execute_result"
    }
   ],
   "source": [
    "correlation_with_element_code = df[['Element Code', 'Y2014', 'Y2015', 'Y2016', 'Y2017', 'Y2018']].corr()['Element Code']\n",
    "correlation_with_element_code = correlation_with_element_code.drop('Element Code')\n",
    "year_least_correlation = correlation_with_element_code.idxmin()\n",
    "year_least_correlation"
   ]
  },
  {
   "cell_type": "markdown",
   "id": "ee74e03e",
   "metadata": {},
   "source": [
    "QUESTION 20"
   ]
  },
  {
   "cell_type": "code",
   "execution_count": 24,
   "id": "f7f856cd",
   "metadata": {},
   "outputs": [
    {
     "name": "stdout",
     "output_type": "stream",
     "text": [
      "Mean: 140.92\n",
      "Standard deviation: 1671.86\n"
     ]
    }
   ],
   "source": [
    "year_2017_data = df['Y2017']\n",
    "mean_2017 = year_2017_data.mean()\n",
    "std_dev_2017 = year_2017_data.std()\n",
    "mean_2017 = round(mean_2017, 2)\n",
    "std_dev_2017 = round(std_dev_2017, 2)\n",
    "\n",
    "print(\"Mean:\", mean_2017)\n",
    "print(\"Standard deviation:\", std_dev_2017)"
   ]
  },
  {
   "cell_type": "code",
   "execution_count": null,
   "id": "9a246328",
   "metadata": {},
   "outputs": [],
   "source": []
  },
  {
   "cell_type": "code",
   "execution_count": null,
   "id": "014e3214",
   "metadata": {},
   "outputs": [],
   "source": []
  }
 ],
 "metadata": {
  "kernelspec": {
   "display_name": "Python 3 (ipykernel)",
   "language": "python",
   "name": "python3"
  },
  "language_info": {
   "codemirror_mode": {
    "name": "ipython",
    "version": 3
   },
   "file_extension": ".py",
   "mimetype": "text/x-python",
   "name": "python",
   "nbconvert_exporter": "python",
   "pygments_lexer": "ipython3",
   "version": "3.9.12"
  }
 },
 "nbformat": 4,
 "nbformat_minor": 5
}
